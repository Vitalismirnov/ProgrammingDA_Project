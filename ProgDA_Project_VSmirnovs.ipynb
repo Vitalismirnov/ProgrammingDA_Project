{
 "cells": [
  {
   "cell_type": "markdown",
   "metadata": {},
   "source": [
    "# Project for Programming for DA\n",
    "## Vitalijs Smirnovs\n",
    "## ID: G00317774\n",
    "### Lecturer: Dr. Brian McGinley"
   ]
  },
  {
   "cell_type": "markdown",
   "metadata": {},
   "source": [
    "Data to be simulated:\n",
    "Earnings in Galway county by age, gender and marital status.\n",
    "\n",
    "Sources of original data: [(CSO.ie, 2019a,](https://statbank.cso.ie/px/pxeirestat/Statire/SelectVarVal/Define.asp?maintable=NSA87&PLanguage=0) [CSO.ie, 2019b)](https://statbank.cso.ie/px/pxeirestat/Statire/SelectVarVal/Define.asp?MainTable=E2028&TabStrip=Select&PLanguage=0&FF=1#)\n",
    "\n",
    "Four variables to be simulated:\n",
    "- age\n",
    "- gender\n",
    "- marital status\n",
    "- earnings\n",
    "\n",
    "The hypothesis is that there are differences in the varibles by gender. So Gender is the first variable to be generated.\n",
    "To know how many observations to simulate, I checked the CSO.ie data and Galway County (including Galway City) had a population of 258,058 people as counted in the last 2016 Srnsus of population.[(CSO.ie, 2019c)](https://statbank.cso.ie/px/pxeirestat/Statire/SelectVarVal/Define.asp?MainTable=E2028&TabStrip=Select&PLanguage=0&FF=1#)\n",
    "\n",
    "The population of 258,058 people includes 127,663 Males and 130,395 Females, in proportions:\n",
    "Male\t0.494706616; \n",
    "Female\t0.505293384. [(CSO.ie, 2019d)](https://statbank.cso.ie/px/pxeirestat/Statire/SelectVarVal/saveselections.asp])"
   ]
  },
  {
   "cell_type": "code",
   "execution_count": 1,
   "metadata": {},
   "outputs": [],
   "source": [
    "# import needed packages\n",
    "import pandas as pd\n",
    "import seaborn as sn\n",
    "import numpy as np"
   ]
  },
  {
   "cell_type": "code",
   "execution_count": 2,
   "metadata": {},
   "outputs": [
    {
     "name": "stdout",
     "output_type": "stream",
     "text": [
      "258058\n"
     ]
    },
    {
     "data": {
      "text/html": [
       "<div>\n",
       "<style scoped>\n",
       "    .dataframe tbody tr th:only-of-type {\n",
       "        vertical-align: middle;\n",
       "    }\n",
       "\n",
       "    .dataframe tbody tr th {\n",
       "        vertical-align: top;\n",
       "    }\n",
       "\n",
       "    .dataframe thead th {\n",
       "        text-align: right;\n",
       "    }\n",
       "</style>\n",
       "<table border=\"1\" class=\"dataframe\">\n",
       "  <thead>\n",
       "    <tr style=\"text-align: right;\">\n",
       "      <th></th>\n",
       "      <th>gender</th>\n",
       "    </tr>\n",
       "  </thead>\n",
       "  <tbody>\n",
       "    <tr>\n",
       "      <th>0</th>\n",
       "      <td>Male</td>\n",
       "    </tr>\n",
       "    <tr>\n",
       "      <th>1</th>\n",
       "      <td>Female</td>\n",
       "    </tr>\n",
       "    <tr>\n",
       "      <th>2</th>\n",
       "      <td>Male</td>\n",
       "    </tr>\n",
       "    <tr>\n",
       "      <th>3</th>\n",
       "      <td>Female</td>\n",
       "    </tr>\n",
       "    <tr>\n",
       "      <th>4</th>\n",
       "      <td>Male</td>\n",
       "    </tr>\n",
       "  </tbody>\n",
       "</table>\n",
       "</div>"
      ],
      "text/plain": [
       "   gender\n",
       "0    Male\n",
       "1  Female\n",
       "2    Male\n",
       "3  Female\n",
       "4    Male"
      ]
     },
     "execution_count": 2,
     "metadata": {},
     "output_type": "execute_result"
    }
   ],
   "source": [
    "# randomly choose male or female with probabilities 0.49 for male and 0.51 for female\n",
    "gender = np.random.choice(['Male','Female'],258058, p=[0.49,0.51], replace=True)\n",
    "# how many values are generated?\n",
    "print(len(gender))\n",
    "# record values into the dataframe\n",
    "df = pd.DataFrame(data=gender, columns=['gender'])\n",
    "# view the head of dataframe\n",
    "df.head()"
   ]
  },
  {
   "cell_type": "markdown",
   "metadata": {},
   "source": [
    "Two variable of remaning three will presumably depend on age - marital status and earnings. So age is the next variable to be simulated."
   ]
  },
  {
   "cell_type": "markdown",
   "metadata": {},
   "source": [
    "### Age\n",
    "[(CSO.ie, 2019e)](https://statbank.cso.ie/px/pxeirestat/Statire/SelectVarVal/saveselections.asp)\n",
    "\n"
   ]
  },
  {
   "cell_type": "markdown",
   "metadata": {},
   "source": [
    "Age Group | N  | Proportion|  \n",
    "----------|----:|--------:|\n",
    "All ages\t       | 258058\t  |\n",
    "0 - 4 years\t       | 17799\t|0.068972867\n",
    "5 - 9 years\t       | 18885\t|0.073181223\n",
    "10 - 14 years\t   | 17198\t|0.066643933\n",
    "15 - 19 years\t   | 16600\t|0.064326624\n",
    "20 - 24 years\t   | 16470\t|0.063822862\n",
    "25 - 29 years\t   | 15304\t|0.059304497\n",
    "30 - 34 years\t   | 18859\t|0.07308047\n",
    "35 - 39 years\t   | 21175\t|0.082055197\n",
    "40 - 44 years\t   | 19420\t|0.0752544\n",
    "45 - 49 years\t   | 17691\t|0.068554356\n",
    "50 - 54 years\t   | 15796\t|0.061211046\n",
    "55 - 59 years\t   | 14639\t|0.056727557\n",
    "60 - 64 years\t   | 13316\t|0.051600803\n",
    "65 - 69 years\t   | 11434\t|0.044307869\n",
    "70 - 74 years\t   | 8808\t|0.034131862\n",
    "75 - 79 years\t   | 6239\t|0.024176735\n",
    "80 - 84 years\t   | 4479\t|0.017356563\n",
    "85 years and over  | 3946\t|0.015291136"
   ]
  },
  {
   "cell_type": "code",
   "execution_count": 3,
   "metadata": {},
   "outputs": [
    {
     "data": {
      "text/plain": [
       "258058"
      ]
     },
     "execution_count": 3,
     "metadata": {},
     "output_type": "execute_result"
    }
   ],
   "source": [
    "a = (np.random.randint(0, 5, 17799))\n",
    "# a is an array, we want to use extend funfrion, so needs to be converted to list\n",
    "# https://docs.scipy.org/doc/numpy/reference/generated/numpy.ndarray.tolist.html\n",
    "age = list(a)\n",
    "# extend the list\n",
    "# https://stackabuse.com/append-vs-extend-in-python-lists/\n",
    "# similar proportion fall into 10-25 categories, so group together\n",
    "# also 45-54, 55-61 and 80+\n",
    "age.extend(np.random.randint(5, 10, 18885))\n",
    "age.extend(np.random.randint(10, 25, 50268))     \n",
    "age.extend(np.random.randint(25, 30, 15304))\n",
    "age.extend(np.random.randint(30, 35, 18859))\n",
    "age.extend(np.random.randint(35, 40, 21175))\n",
    "age.extend(np.random.randint(40, 45, 19420) )          \n",
    "age.extend(np.random.randint(45, 55, 33487))\n",
    "age.extend(np.random.randint(55, 65, 27955)) \n",
    "age.extend(np.random.randint(65, 70, 11434)) \n",
    "age.extend(np.random.randint(70, 75, 8808))           \n",
    "age.extend(np.random.randint(75, 79, 6239))           \n",
    "age.extend(np.random.randint(80, 100, 8425))     \n",
    "len(age)  \n",
    "#print(age)"
   ]
  },
  {
   "cell_type": "code",
   "execution_count": 4,
   "metadata": {},
   "outputs": [
    {
     "data": {
      "text/plain": [
       "count    258058.000000\n",
       "mean         37.168024\n",
       "std          23.005301\n",
       "min           0.000000\n",
       "25%          18.000000\n",
       "50%          36.000000\n",
       "75%          54.000000\n",
       "max          99.000000\n",
       "Name: age, dtype: float64"
      ]
     },
     "execution_count": 4,
     "metadata": {},
     "output_type": "execute_result"
    }
   ],
   "source": [
    "# shuffle the list, to insure it is random\n",
    "age1=np.random.shuffle(age)\n",
    "# write into a dataframe column\n",
    "# https://stackoverflow.com/questions/26666919/add-column-in-dataframe-from-list\n",
    "df['age']= age\n",
    "df\n",
    "df['age'].describe()\n"
   ]
  },
  {
   "attachments": {
    "image.png": {
     "image/png": "[encoded data removed]"
    }
   },
   "cell_type": "markdown",
   "metadata": {},
   "source": [
    "### Marital Status\n",
    "Judging from CSO.ie that marital status dependent on both age and gender. Inparticular, it is reported that: \"There were 94,924 men and 127,149 women separated or divorced in 2016. Figure 1.4 shows the age and sex breakdown of the separated or divorced population for 2011 and 2016. There were nearly 90% more separated or divorced women (7,244) than men (3,830) in the 25-34 age group. The proportionate difference between sexes reduces with age, and for persons aged 65 years and over, there are 4% more women (18,743) than men (18,097) separated or divorced.\" [(CSO.ie, 2019f)](https://www.cso.ie/en/releasesandpublications/ep/p-cp4hf/cp4hf/ms/)\n",
    "\n",
    "The figure, mentioned in the quated paragraph confirms:\n",
    "\n",
    "![image.png](attachment:image.png)\n",
    "\n"
   ]
  },
  {
   "cell_type": "markdown",
   "metadata": {},
   "source": [
    "CSO.ie reports by Single Year of Age, Sex, Marital Status and CensusYear: [(CSO.ie, 2019)](https://statbank.cso.ie/px/pxeirestat/Statire/SelectVarVal/Define.asp?maintable=E3011&PLanguage=0)"
   ]
  },
  {
   "cell_type": "code",
   "execution_count": 5,
   "metadata": {},
   "outputs": [
    {
     "data": {
      "text/html": [
       "<div>\n",
       "<style scoped>\n",
       "    .dataframe tbody tr th:only-of-type {\n",
       "        vertical-align: middle;\n",
       "    }\n",
       "\n",
       "    .dataframe tbody tr th {\n",
       "        vertical-align: top;\n",
       "    }\n",
       "\n",
       "    .dataframe thead th {\n",
       "        text-align: right;\n",
       "    }\n",
       "</style>\n",
       "<table border=\"1\" class=\"dataframe\">\n",
       "  <thead>\n",
       "    <tr style=\"text-align: right;\">\n",
       "      <th></th>\n",
       "      <th>gender</th>\n",
       "      <th>age</th>\n",
       "      <th>marital</th>\n",
       "    </tr>\n",
       "  </thead>\n",
       "  <tbody>\n",
       "    <tr>\n",
       "      <th>0</th>\n",
       "      <td>Male</td>\n",
       "      <td>2</td>\n",
       "      <td>NaN</td>\n",
       "    </tr>\n",
       "    <tr>\n",
       "      <th>1</th>\n",
       "      <td>Female</td>\n",
       "      <td>60</td>\n",
       "      <td>NaN</td>\n",
       "    </tr>\n",
       "    <tr>\n",
       "      <th>2</th>\n",
       "      <td>Male</td>\n",
       "      <td>48</td>\n",
       "      <td>NaN</td>\n",
       "    </tr>\n",
       "    <tr>\n",
       "      <th>3</th>\n",
       "      <td>Female</td>\n",
       "      <td>6</td>\n",
       "      <td>NaN</td>\n",
       "    </tr>\n",
       "    <tr>\n",
       "      <th>4</th>\n",
       "      <td>Male</td>\n",
       "      <td>60</td>\n",
       "      <td>NaN</td>\n",
       "    </tr>\n",
       "  </tbody>\n",
       "</table>\n",
       "</div>"
      ],
      "text/plain": [
       "   gender  age  marital\n",
       "0    Male    2      NaN\n",
       "1  Female   60      NaN\n",
       "2    Male   48      NaN\n",
       "3  Female    6      NaN\n",
       "4    Male   60      NaN"
      ]
     },
     "execution_count": 5,
     "metadata": {},
     "output_type": "execute_result"
    }
   ],
   "source": [
    "# adapted from: https://stackoverflow.com/questions/16327055/how-to-add-an-empty-column-to-a-dataframe\n",
    "# add an empty column to data frame for marital status\n",
    "df['marital'] = np.nan\n",
    "df.head()\n"
   ]
  },
  {
   "cell_type": "code",
   "execution_count": 108,
   "metadata": {},
   "outputs": [],
   "source": [
    "b0 =\t[\t1.00000\t,\t0.00000\t,\t0.00000\t,\t0.00000\t]\n",
    "b1 =\t[\t1.00000\t,\t0.00000\t,\t0.00000\t,\t0.00000\t]\n",
    "b2 =\t[\t1.00000\t,\t0.00000\t,\t0.00000\t,\t0.00000\t]\n",
    "b3 =\t[\t1.00000\t,\t0.00000\t,\t0.00000\t,\t0.00000\t]\n",
    "b4 =\t[\t1.00000\t,\t0.00000\t,\t0.00000\t,\t0.00000\t]\n",
    "b5 =\t[\t1.00000\t,\t0.00000\t,\t0.00000\t,\t0.00000\t]\n",
    "b6 =\t[\t1.00000\t,\t0.00000\t,\t0.00000\t,\t0.00000\t]\n",
    "b7 =\t[\t1.00000\t,\t0.00000\t,\t0.00000\t,\t0.00000\t]\n",
    "b8 =\t[\t1.00000\t,\t0.00000\t,\t0.00000\t,\t0.00000\t]\n",
    "b9 =\t[\t1.00000\t,\t0.00000\t,\t0.00000\t,\t0.00000\t]\n",
    "b10 =\t[\t1.00000\t,\t0.00000\t,\t0.00000\t,\t0.00000\t]\n",
    "b11 =\t[\t1.00000\t,\t0.00000\t,\t0.00000\t,\t0.00000\t]\n",
    "b12 =\t[\t1.00000\t,\t0.00000\t,\t0.00000\t,\t0.00000\t]\n",
    "b13 =\t[\t1.00000\t,\t0.00000\t,\t0.00000\t,\t0.00000\t]\n",
    "b14 =\t[\t1.00000\t,\t0.00000\t,\t0.00000\t,\t0.00000\t]\n",
    "b15 =\t[\t1.00000\t,\t0.00000\t,\t0.00000\t,\t0.00000\t]\n",
    "b16 =\t[\t0.99997\t,\t0.00003\t,\t0.00000\t,\t0.00000\t]\n",
    "b17 =\t[\t0.99990\t,\t0.00003\t,\t0.00006\t,\t0.00000\t]\n",
    "b18 =\t[\t0.99608\t,\t0.00335\t,\t0.00032\t,\t0.00025\t]\n",
    "b19 =\t[\t0.99383\t,\t0.00529\t,\t0.00020\t,\t0.00068\t]\n",
    "b20 =\t[\t0.99004\t,\t0.00838\t,\t0.00070\t,\t0.00088\t]\n",
    "b21 =\t[\t0.98727\t,\t0.01135\t,\t0.00084\t,\t0.00054\t]\n",
    "b22\t=\t[\t0.98192\t,\t0.01610\t,\t0.00128\t,\t0.00070\t]\n",
    "b23\t=\t[\t0.97485\t,\t0.02240\t,\t0.00194\t,\t0.00081\t]\n",
    "b24\t=\t[\t0.96771\t,\t0.02985\t,\t0.00174\t,\t0.00070\t]\n",
    "b25\t=\t[\t0.94506\t,\t0.05168\t,\t0.00243\t,\t0.00083\t]\n",
    "b26\t=\t[\t0.92739\t,\t0.06762\t,\t0.00387\t,\t0.00112\t]\n",
    "b27\t=\t[\t0.86207\t,\t0.13244\t,\t0.00433\t,\t0.00116\t]\n",
    "b28\t=\t[\t0.85625\t,\t0.13602\t,\t0.00661\t,\t0.00112\t]\n",
    "b29\t=\t[\t0.80778\t,\t0.18144\t,\t0.00908\t,\t0.00170\t]\n",
    "b30\t=\t[\t0.73128\t,\t0.25666\t,\t0.01011\t,\t0.00195\t]\n",
    "b31\t=\t[\t0.67489\t,\t0.30761\t,\t0.01552\t,\t0.00198\t]\n",
    "b32\t=\t[\t0.61324\t,\t0.36799\t,\t0.01704\t,\t0.00172\t]\n",
    "b33\t=\t[\t0.55402\t,\t0.42287\t,\t0.02103\t,\t0.00208\t]\n",
    "b34\t=\t[\t0.50436\t,\t0.47039\t,\t0.02354\t,\t0.00171\t]\n",
    "b35\t=\t[\t0.46546\t,\t0.50515\t,\t0.02756\t,\t0.00183\t]\n",
    "b36\t=\t[\t0.42979\t,\t0.53923\t,\t0.02876\t,\t0.00223\t]\n",
    "b37\t=\t[\t0.38644\t,\t0.57607\t,\t0.03526\t,\t0.00224\t]\n",
    "b38\t=\t[\t0.36702\t,\t0.59379\t,\t0.03686\t,\t0.00234\t]\n",
    "b39\t=\t[\t0.33344\t,\t0.62159\t,\t0.04189\t,\t0.00308\t]\n",
    "b40\t=\t[\t0.31765\t,\t0.63347\t,\t0.04545\t,\t0.00342\t]\n",
    "b41\t=\t[\t0.30498\t,\t0.63878\t,\t0.05290\t,\t0.00334\t]\n",
    "b42\t=\t[\t0.29184\t,\t0.64704\t,\t0.05684\t,\t0.00428\t]\n",
    "b43\t=\t[\t0.27681\t,\t0.65653\t,\t0.06209\t,\t0.00457\t]\n",
    "b44\t=\t[\t0.26125\t,\t0.66774\t,\t0.06617\t,\t0.00484\t]\n",
    "b45\t=\t[\t0.25750\t,\t0.66918\t,\t0.06878\t,\t0.00454\t]\n",
    "b46\t=\t[\t0.24391\t,\t0.67496\t,\t0.07484\t,\t0.00629\t]\n",
    "b47\t=\t[\t0.22451\t,\t0.68602\t,\t0.08296\t,\t0.00651\t]\n",
    "b48\t=\t[\t0.22197\t,\t0.68300\t,\t0.08763\t,\t0.00741\t]\n",
    "b49\t=\t[\t0.21529\t,\t0.68383\t,\t0.09186\t,\t0.00902\t]\n",
    "b50\t=\t[\t0.21053\t,\t0.68760\t,\t0.09306\t,\t0.00881\t]\n",
    "b51\t=\t[\t0.20282\t,\t0.68640\t,\t0.10037\t,\t0.01041\t]\n",
    "b52\t=\t[\t0.19407\t,\t0.69115\t,\t0.10350\t,\t0.01128\t]\n",
    "b53\t=\t[\t0.18121\t,\t0.69454\t,\t0.11064\t,\t0.01361\t]\n",
    "b54\t=\t[\t0.18170\t,\t0.69301\t,\t0.11017\t,\t0.01512\t]\n",
    "b55\t=\t[\t0.17663\t,\t0.69641\t,\t0.10984\t,\t0.01712\t]\n",
    "b56\t=\t[\t0.16868\t,\t0.69765\t,\t0.11322\t,\t0.02045\t]\n",
    "b57\t=\t[\t0.16077\t,\t0.70473\t,\t0.11374\t,\t0.02075\t]\n",
    "b58\t=\t[\t0.15842\t,\t0.70356\t,\t0.11427\t,\t0.02375\t]\n",
    "b59\t=\t[\t0.15177\t,\t0.70448\t,\t0.11668\t,\t0.02707\t]\n",
    "b60\t=\t[\t0.15180\t,\t0.70801\t,\t0.11047\t,\t0.02972\t]\n",
    "b61\t=\t[\t0.15240\t,\t0.70329\t,\t0.11156\t,\t0.03274\t]\n",
    "b62\t=\t[\t0.14947\t,\t0.71155\t,\t0.10380\t,\t0.03518\t]\n",
    "b63\t=\t[\t0.14688\t,\t0.71203\t,\t0.10267\t,\t0.03843\t]\n",
    "b64\t=\t[\t0.14146\t,\t0.71181\t,\t0.10316\t,\t0.04357\t]\n",
    "b65\t=\t[\t0.14512\t,\t0.70696\t,\t0.09919\t,\t0.04873\t]\n",
    "b66\t=\t[\t0.14723\t,\t0.70685\t,\t0.09208\t,\t0.05384\t]\n",
    "b67\t=\t[\t0.14387\t,\t0.70637\t,\t0.09073\t,\t0.05903\t]\n",
    "b68\t=\t[\t0.13709\t,\t0.71633\t,\t0.08300\t,\t0.06358\t]\n",
    "b69\t=\t[\t0.13242\t,\t0.72093\t,\t0.07780\t,\t0.06884\t]\n",
    "b70\t=\t[\t0.12949\t,\t0.71802\t,\t0.06838\t,\t0.08411\t]\n",
    "b71\t=\t[\t0.12948\t,\t0.71997\t,\t0.06945\t,\t0.08110\t]\n",
    "b72\t=\t[\t0.13481\t,\t0.70966\t,\t0.06552\t,\t0.09002\t]\n",
    "b73\t=\t[\t0.13415\t,\t0.70994\t,\t0.05790\t,\t0.09801\t]\n",
    "b74\t=\t[\t0.13769\t,\t0.70213\t,\t0.05372\t,\t0.10646\t]\n",
    "b75\t=\t[\t0.14330\t,\t0.68218\t,\t0.05172\t,\t0.12280\t]\n",
    "b76\t=\t[\t0.14309\t,\t0.67929\t,\t0.04679\t,\t0.13084\t]\n",
    "b77\t=\t[\t0.13935\t,\t0.68104\t,\t0.04541\t,\t0.13421\t]\n",
    "b78\t=\t[\t0.15068\t,\t0.66349\t,\t0.03837\t,\t0.14746\t]\n",
    "b79\t=\t[\t0.15079\t,\t0.64695\t,\t0.03770\t,\t0.16457\t]\n",
    "b80\t=\t[\t0.15370\t,\t0.63544\t,\t0.03146\t,\t0.17940\t]\n",
    "b81\t=\t[\t0.15944\t,\t0.62108\t,\t0.02982\t,\t0.18965\t]\n",
    "b82\t=\t[\t0.16216\t,\t0.60068\t,\t0.02759\t,\t0.20957\t]\n",
    "b83\t=\t[\t0.16285\t,\t0.58691\t,\t0.02241\t,\t0.22783\t]\n",
    "b84\t=\t[\t0.16957\t,\t0.56738\t,\t0.02036\t,\t0.24269\t]\n",
    "b85\t=\t[\t0.16539\t,\t0.55145\t,\t0.01877\t,\t0.26438\t]\n",
    "b86\t=\t[\t0.18221\t,\t0.52369\t,\t0.01487\t,\t0.27923\t]\n",
    "b87\t=\t[\t0.18333\t,\t0.49340\t,\t0.01572\t,\t0.30755\t]\n",
    "b88\t=\t[\t0.18774\t,\t0.47073\t,\t0.01717\t,\t0.32436\t]\n",
    "b89\t=\t[\t0.18233\t,\t0.44828\t,\t0.01417\t,\t0.35522\t]\n",
    "b90\t=\t[\t0.19605\t,\t0.40944\t,\t0.00717\t,\t0.38733\t]\n",
    "b91\t=\t[\t0.18505\t,\t0.40408\t,\t0.01208\t,\t0.39879\t]\n",
    "b92\t=\t[\t0.21739\t,\t0.34058\t,\t0.00518\t,\t0.43685\t]\n",
    "b93\t=\t[\t0.18742\t,\t0.33869\t,\t0.01205\t,\t0.46185\t]\n",
    "b94\t=\t[\t0.18702\t,\t0.29962\t,\t0.00763\t,\t0.50573\t]\n",
    "b95\t=\t[\t0.17784\t,\t0.32216\t,\t0.00258\t,\t0.49742\t]\n",
    "b96\t=\t[\t0.23988\t,\t0.30530\t,\t0.04984\t,\t0.40498\t]\n",
    "b97\t=\t[\t0.25000\t,\t0.22917\t,\t0.04688\t,\t0.47396\t]\n",
    "b98\t=\t[\t0.19355\t,\t0.23656\t,\t0.02151\t,\t0.54839\t]\n",
    "b99\t=\t[\t0.22973\t,\t0.33784\t,\t0.05405\t,\t0.37838\t]\n",
    "b100\t=\t[\t0.22619\t,\t0.16667\t,\t0.01190\t,\t0.59524\t]\n"
   ]
  },
  {
   "cell_type": "code",
   "execution_count": 111,
   "metadata": {},
   "outputs": [
    {
     "name": "stdout",
     "output_type": "stream",
     "text": [
      "single\n",
      "single\n"
     ]
    }
   ],
   "source": [
    "a=['single', 'married', 'divorced', 'widowed']\n",
    "bs=[b0,b1,b2,b3,b4,b5,b6,b7,b8,b9,b10,b11,b12,b13,b14,b15,b16,b17,b18,b19,b20,b21,b22,b23,b24,b25,\n",
    "        b26,b27,b28,b29,b30,b31,b32,b33,b34,b35,b36,b37,b38,b39,b40,b41,b42,b43,b44,b45,b46,b47,b48,b49,b50,\n",
    "        b51,b52,b53,b54,b55,b56,b57,b58,b59,b60,b61,b62,b63,b64,b65,b66,b67,b68,b69,b70,b71,b72,b73,b74,b75,\n",
    "        b76,b77,b78,b79,b80,b81,b82,b83,b84,b85,b86,b87,b88,b89,b90,b91,b92,b93,b94,b95,b96,b97,b98,b99,b100]\n",
    "for i, var in zip((0,99), bs):\n",
    "    c = np.random.choice(a, p=var)\n",
    "    print(c)\n",
    "    df.loc[(df['gender'] == 'Male') & (df['age'] == i), 'marital'] = c \n",
    "\n",
    "#df2= df.sort_values(by='age')\n",
    "#df2   \n",
    "    "
   ]
  },
  {
   "cell_type": "code",
   "execution_count": null,
   "metadata": {},
   "outputs": [],
   "source": []
  }
 ],
 "metadata": {
  "kernelspec": {
   "display_name": "Python 3",
   "language": "python",
   "name": "python3"
  },
  "language_info": {
   "codemirror_mode": {
    "name": "ipython",
    "version": 3
   },
   "file_extension": ".py",
   "mimetype": "text/x-python",
   "name": "python",
   "nbconvert_exporter": "python",
   "pygments_lexer": "ipython3",
   "version": "3.7.3"
  }
 },
 "nbformat": 4,
 "nbformat_minor": 2
}
