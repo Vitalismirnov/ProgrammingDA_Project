{
 "cells": [
  {
   "cell_type": "markdown",
   "metadata": {},
   "source": [
    "# Project for Programming for DA\n",
    "## Vitalijs Smirnovs\n",
    "## ID: G00317774\n",
    "### Lecturer: Dr. Brian McGinley"
   ]
  },
  {
   "cell_type": "markdown",
   "metadata": {},
   "source": [
    "Data to be simulated:\n",
    "Earnings in Galway county by age, gender and marital status.\n",
    "\n",
    "Sources of original data:\n",
    "https://statbank.cso.ie/px/pxeirestat/Statire/SelectVarVal/Define.asp?maintable=NSA87&PLanguage=0\n",
    "\n",
    "https://statbank.cso.ie/px/pxeirestat/Statire/SelectVarVal/Define.asp?MainTable=E2028&TabStrip=Select&PLanguage=0&FF=1#\n",
    "\n",
    "Four variables to be simulated:\n",
    "- age\n",
    "- gender\n",
    "- marital status\n",
    "- earnings\n",
    "\n"
   ]
  },
  {
   "cell_type": "code",
   "execution_count": null,
   "metadata": {},
   "outputs": [],
   "source": []
  }
 ],
 "metadata": {
  "kernelspec": {
   "display_name": "Python 3",
   "language": "python",
   "name": "python3"
  },
  "language_info": {
   "codemirror_mode": {
    "name": "ipython",
    "version": 3
   },
   "file_extension": ".py",
   "mimetype": "text/x-python",
   "name": "python",
   "nbconvert_exporter": "python",
   "pygments_lexer": "ipython3",
   "version": "3.7.3"
  }
 },
 "nbformat": 4,
 "nbformat_minor": 2
}
