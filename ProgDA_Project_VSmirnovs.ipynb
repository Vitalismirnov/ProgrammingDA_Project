{
 "cells": [
  {
   "cell_type": "markdown",
   "metadata": {},
   "source": [
    "# Project for Programming for DA\n",
    "## Vitalijs Smirnovs\n",
    "## ID: G00317774\n",
    "### Lecturer: Dr. Brian McGinley"
   ]
  },
  {
   "attachments": {},
   "cell_type": "markdown",
   "metadata": {},
   "source": [
    "Data to be simulated:\n",
    "Earnings in Galway county by age, gender and marital status.\n",
    "\n",
    "Sources of original data:\n",
    "https://statbank.cso.ie/px/pxeirestat/Statire/SelectVarVal/Define.asp?maintable=NSA87&PLanguage=0\n",
    "\n",
    "https://statbank.cso.ie/px/pxeirestat/Statire/SelectVarVal/Define.asp?MainTable=E2028&TabStrip=Select&PLanguage=0&FF=1#\n",
    "\n",
    "Four variables to be simulated:\n",
    "- age\n",
    "- gender\n",
    "- marital status\n",
    "- earnings\n",
    "\n",
    "The hypothesis is that there are differences in the varibles by gender. So Gender is the first variable to be generated.\n",
    "To know how many observations to simulate, I checked the CSO.ie data and Galway County (including Galway City) had a population of 258,058 people as counted in the last 2016 Srnsus of population. [https://statbank.cso.ie/px/pxeirestat/Statire/SelectVarVal/Define.asp?MainTable=E2028&TabStrip=Select&PLanguage=0&FF=1#]\n",
    "\n",
    "The population of 258,058 people includes 127,663 Males and 130,395 Females, in proportions:\n",
    "Male\t0.494706616; \n",
    "Female\t0.505293384. [https://statbank.cso.ie/px/pxeirestat/Statire/SelectVarVal/saveselections.asp]"
   ]
  },
  {
   "cell_type": "code",
   "execution_count": 21,
   "metadata": {},
   "outputs": [
    {
     "name": "stdout",
     "output_type": "stream",
     "text": [
      "258058\n"
     ]
    },
    {
     "data": {
      "text/html": [
       "<div>\n",
       "<style scoped>\n",
       "    .dataframe tbody tr th:only-of-type {\n",
       "        vertical-align: middle;\n",
       "    }\n",
       "\n",
       "    .dataframe tbody tr th {\n",
       "        vertical-align: top;\n",
       "    }\n",
       "\n",
       "    .dataframe thead th {\n",
       "        text-align: right;\n",
       "    }\n",
       "</style>\n",
       "<table border=\"1\" class=\"dataframe\">\n",
       "  <thead>\n",
       "    <tr style=\"text-align: right;\">\n",
       "      <th></th>\n",
       "      <th>gender</th>\n",
       "    </tr>\n",
       "  </thead>\n",
       "  <tbody>\n",
       "    <tr>\n",
       "      <th>0</th>\n",
       "      <td>Female</td>\n",
       "    </tr>\n",
       "    <tr>\n",
       "      <th>1</th>\n",
       "      <td>Female</td>\n",
       "    </tr>\n",
       "    <tr>\n",
       "      <th>2</th>\n",
       "      <td>Female</td>\n",
       "    </tr>\n",
       "    <tr>\n",
       "      <th>3</th>\n",
       "      <td>Male</td>\n",
       "    </tr>\n",
       "    <tr>\n",
       "      <th>4</th>\n",
       "      <td>Male</td>\n",
       "    </tr>\n",
       "  </tbody>\n",
       "</table>\n",
       "</div>"
      ],
      "text/plain": [
       "   gender\n",
       "0  Female\n",
       "1  Female\n",
       "2  Female\n",
       "3    Male\n",
       "4    Male"
      ]
     },
     "execution_count": 21,
     "metadata": {},
     "output_type": "execute_result"
    }
   ],
   "source": [
    "# randomly choose male or female with probabilities 0.49 for male and 0.51 for female\n",
    "age = np.random.choice(['Male','Female'],258058, p=[0.49,0.51], replace=True)\n",
    "# how many values are generated?\n",
    "print(len(age))\n",
    "# record values into the dataframe\n",
    "df = pd.DataFrame(data=age, columns=['gender'])\n",
    "# view the head of dataframe\n",
    "df.head()\n"
   ]
  },
  {
   "cell_type": "markdown",
   "metadata": {},
   "source": [
    "Two variable of remaning three will presumably depend on age - marital status and earnings. So age is the next variable to be simulated."
   ]
  },
  {
   "cell_type": "markdown",
   "metadata": {},
   "source": [
    "### Age\n",
    "https://statbank.cso.ie/px/pxeirestat/Statire/SelectVarVal/saveselections.asp\n",
    "\n"
   ]
  },
  {
   "attachments": {
    "image.png": {
     "image/png": "[encoded data removed]"
    }
   },
   "cell_type": "markdown",
   "metadata": {},
   "source": [
    "Age Group             N       Proportion   \n",
    "All ages\t        258058\t\n",
    "0 - 4 years\t        17799\t0.068972867\n",
    "5 - 9 years\t        18885\t0.073181223\n",
    "10 - 14 years\t    17198\t0.066643933\n",
    "15 - 19 years\t    16600\t0.064326624\n",
    "20 - 24 years\t    16470\t0.063822862\n",
    "25 - 29 years\t    15304\t0.059304497\n",
    "30 - 34 years\t    18859\t0.07308047\n",
    "35 - 39 years\t    21175\t0.082055197\n",
    "40 - 44 years\t    19420\t0.0752544\n",
    "45 - 49 years\t    17691\t0.068554356\n",
    "50 - 54 years\t    15796\t0.061211046\n",
    "55 - 59 years\t    14639\t0.056727557\n",
    "60 - 64 years\t    13316\t0.051600803\n",
    "65 - 69 years\t    11434\t0.044307869\n",
    "70 - 74 years\t    8808\t0.034131862\n",
    "75 - 79 years\t    6239\t0.024176735\n",
    "80 - 84 years\t    4479\t0.017356563\n",
    "85 years and over\t3946\t0.015291136\n",
    "![image.png](attachment:image.png)"
   ]
  },
  {
   "cell_type": "code",
   "execution_count": 3,
   "metadata": {},
   "outputs": [],
   "source": [
    "import pandas as pd\n",
    "import seaborn as sn\n",
    "import numpy as np"
   ]
  },
  {
   "cell_type": "code",
   "execution_count": null,
   "metadata": {},
   "outputs": [],
   "source": [
    "age = np.array[]"
   ]
  },
  {
   "cell_type": "code",
   "execution_count": 4,
   "metadata": {},
   "outputs": [
    {
     "ename": "AttributeError",
     "evalue": "module 'pandas' has no attribute 'dataframe'",
     "output_type": "error",
     "traceback": [
      "\u001b[1;31m---------------------------------------------------------------------------\u001b[0m",
      "\u001b[1;31mAttributeError\u001b[0m                            Traceback (most recent call last)",
      "\u001b[1;32m<ipython-input-4-f418b00abe32>\u001b[0m in \u001b[0;36m<module>\u001b[1;34m\u001b[0m\n\u001b[1;32m----> 1\u001b[1;33m \u001b[0mdf\u001b[0m \u001b[1;33m=\u001b[0m \u001b[0mpd\u001b[0m\u001b[1;33m.\u001b[0m\u001b[0mdataframe\u001b[0m\u001b[1;33m(\u001b[0m\u001b[1;33m[\u001b[0m\u001b[1;34m'age'\u001b[0m\u001b[1;33m]\u001b[0m\u001b[1;33m)\u001b[0m\u001b[1;33m\u001b[0m\u001b[1;33m\u001b[0m\u001b[0m\n\u001b[0m",
      "\u001b[1;31mAttributeError\u001b[0m: module 'pandas' has no attribute 'dataframe'"
     ]
    }
   ],
   "source": [
    "\n",
    "\n",
    "df = pd.dataframe(['age'])"
   ]
  },
  {
   "cell_type": "code",
   "execution_count": null,
   "metadata": {},
   "outputs": [],
   "source": [
    "df\n"
   ]
  },
  {
   "cell_type": "code",
   "execution_count": null,
   "metadata": {},
   "outputs": [],
   "source": []
  }
 ],
 "metadata": {
  "kernelspec": {
   "display_name": "Python 3",
   "language": "python",
   "name": "python3"
  },
  "language_info": {
   "codemirror_mode": {
    "name": "ipython",
    "version": 3
   },
   "file_extension": ".py",
   "mimetype": "text/x-python",
   "name": "python",
   "nbconvert_exporter": "python",
   "pygments_lexer": "ipython3",
   "version": "3.7.3"
  }
 },
 "nbformat": 4,
 "nbformat_minor": 2
}
